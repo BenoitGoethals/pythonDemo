{
 "cells": [
  {
   "metadata": {
    "ExecuteTime": {
     "end_time": "2024-09-20T13:27:40.665020Z",
     "start_time": "2024-09-20T13:27:40.660473Z"
    }
   },
   "cell_type": "code",
   "source": "print(\"test\")",
   "id": "fe1a9885d369e64c",
   "outputs": [
    {
     "name": "stdout",
     "output_type": "stream",
     "text": [
      "test\n"
     ]
    }
   ],
   "execution_count": 1
  },
  {
   "metadata": {},
   "cell_type": "markdown",
   "source": "",
   "id": "ed060ae45c505949"
  },
  {
   "metadata": {},
   "cell_type": "markdown",
   "source": "# test",
   "id": "e7499e2a541316dd"
  },
  {
   "metadata": {
    "ExecuteTime": {
     "end_time": "2024-09-20T13:29:09.424503Z",
     "start_time": "2024-09-20T13:29:09.406126Z"
    }
   },
   "cell_type": "code",
   "source": [
    "for i in range(10):\n",
    "    print(i)"
   ],
   "id": "ec9708e41ef9580c",
   "outputs": [
    {
     "name": "stdout",
     "output_type": "stream",
     "text": [
      "0\n",
      "1\n",
      "2\n",
      "3\n",
      "4\n",
      "5\n",
      "6\n",
      "7\n",
      "8\n",
      "9\n"
     ]
    }
   ],
   "execution_count": 2
  },
  {
   "metadata": {
    "ExecuteTime": {
     "end_time": "2024-09-20T13:46:19.469536Z",
     "start_time": "2024-09-20T13:46:19.075520Z"
    }
   },
   "cell_type": "code",
   "source": [
    "import pandas\n",
    "import os\n",
    "def main():\n",
    "    cwd = os.getcwd()\n",
    "    print(\"Hello World!\")\n",
    "    print(cwd)\n",
    "    data = pandas.read_csv('weather_data.csv')\n",
    "    print(data[\"day\"])\n",
    "if __name__ == '__main__':\n",
    "    main()\n"
   ],
   "id": "32b78b0f2317efb6",
   "outputs": [
    {
     "name": "stdout",
     "output_type": "stream",
     "text": [
      "Hello World!\n",
      "C:\\Users\\benoit\\PycharmProjects\\pythonDemo\n",
      "0       Monday\n",
      "1      Tuesday\n",
      "2    Wednesday\n",
      "3     Thursday\n",
      "4       Friday\n",
      "5     Saturday\n",
      "6       Sunday\n",
      "Name: day, dtype: object\n"
     ]
    }
   ],
   "execution_count": 3
  }
 ],
 "metadata": {
  "kernelspec": {
   "display_name": "Python 3",
   "language": "python",
   "name": "python3"
  },
  "language_info": {
   "codemirror_mode": {
    "name": "ipython",
    "version": 2
   },
   "file_extension": ".py",
   "mimetype": "text/x-python",
   "name": "python",
   "nbconvert_exporter": "python",
   "pygments_lexer": "ipython2",
   "version": "2.7.6"
  }
 },
 "nbformat": 4,
 "nbformat_minor": 5
}
