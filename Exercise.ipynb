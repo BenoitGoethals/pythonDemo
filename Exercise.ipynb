{
 "cells": [
  {
   "metadata": {
    "ExecuteTime": {
     "end_time": "2024-09-20T14:56:41.435444Z",
     "start_time": "2024-09-20T14:56:41.427472Z"
    }
   },
   "cell_type": "code",
   "source": "2++2",
   "id": "4ff8ef02a71f1a54",
   "outputs": [
    {
     "data": {
      "text/plain": [
       "4"
      ]
     },
     "execution_count": 21,
     "metadata": {},
     "output_type": "execute_result"
    }
   ],
   "execution_count": 21
  },
  {
   "metadata": {
    "ExecuteTime": {
     "end_time": "2024-09-20T14:56:38.925461Z",
     "start_time": "2024-09-20T14:56:38.917955Z"
    }
   },
   "cell_type": "code",
   "source": "+-2",
   "id": "a7a13691b2de89a8",
   "outputs": [
    {
     "data": {
      "text/plain": [
       "-2"
      ]
     },
     "execution_count": 20,
     "metadata": {},
     "output_type": "execute_result"
    }
   ],
   "execution_count": 20
  },
  {
   "metadata": {
    "ExecuteTime": {
     "end_time": "2024-09-20T14:53:24.909446Z",
     "start_time": "2024-09-20T14:53:24.892250Z"
    }
   },
   "cell_type": "code",
   "source": "4 2",
   "id": "f8ef384c1e126117",
   "outputs": [
    {
     "ename": "SyntaxError",
     "evalue": "invalid syntax (1127623480.py, line 1)",
     "output_type": "error",
     "traceback": [
      "\u001B[1;36m  Cell \u001B[1;32mIn[16], line 1\u001B[1;36m\u001B[0m\n\u001B[1;33m    4 2\u001B[0m\n\u001B[1;37m      ^\u001B[0m\n\u001B[1;31mSyntaxError\u001B[0m\u001B[1;31m:\u001B[0m invalid syntax\n"
     ]
    }
   ],
   "execution_count": 16
  },
  {
   "metadata": {
    "ExecuteTime": {
     "end_time": "2024-09-20T14:53:37.924681Z",
     "start_time": "2024-09-20T14:53:37.916994Z"
    }
   },
   "cell_type": "code",
   "source": "round(42.5)",
   "id": "33c23fea382c5350",
   "outputs": [
    {
     "data": {
      "text/plain": [
       "42"
      ]
     },
     "execution_count": 17,
     "metadata": {},
     "output_type": "execute_result"
    }
   ],
   "execution_count": 17
  },
  {
   "metadata": {
    "ExecuteTime": {
     "end_time": "2024-09-20T14:59:22.099111Z",
     "start_time": "2024-09-20T14:59:22.087568Z"
    }
   },
   "cell_type": "code",
   "source": "type(765)",
   "id": "50bb162911e78d3a",
   "outputs": [
    {
     "data": {
      "text/plain": [
       "int"
      ]
     },
     "execution_count": 26,
     "metadata": {},
     "output_type": "execute_result"
    }
   ],
   "execution_count": 26
  },
  {
   "metadata": {
    "ExecuteTime": {
     "end_time": "2024-09-20T14:59:23.350690Z",
     "start_time": "2024-09-20T14:59:23.342053Z"
    }
   },
   "cell_type": "code",
   "source": "type(2.718)",
   "id": "cbe258559cb3f68c",
   "outputs": [
    {
     "data": {
      "text/plain": [
       "float"
      ]
     },
     "execution_count": 27,
     "metadata": {},
     "output_type": "execute_result"
    }
   ],
   "execution_count": 27
  },
  {
   "metadata": {
    "ExecuteTime": {
     "end_time": "2024-09-20T14:59:25.233845Z",
     "start_time": "2024-09-20T14:59:25.228328Z"
    }
   },
   "cell_type": "code",
   "source": "type('2 pi')",
   "id": "c10a20c1b292f584",
   "outputs": [
    {
     "data": {
      "text/plain": [
       "str"
      ]
     },
     "execution_count": 28,
     "metadata": {},
     "output_type": "execute_result"
    }
   ],
   "execution_count": 28
  },
  {
   "metadata": {
    "ExecuteTime": {
     "end_time": "2024-09-20T14:59:26.643263Z",
     "start_time": "2024-09-20T14:59:26.636336Z"
    }
   },
   "cell_type": "code",
   "source": "type(abs(-7))",
   "id": "2f2f4bf4c5cb13e1",
   "outputs": [
    {
     "data": {
      "text/plain": [
       "int"
      ]
     },
     "execution_count": 29,
     "metadata": {},
     "output_type": "execute_result"
    }
   ],
   "execution_count": 29
  },
  {
   "metadata": {
    "ExecuteTime": {
     "end_time": "2024-09-20T14:59:29.244699Z",
     "start_time": "2024-09-20T14:59:29.228285Z"
    }
   },
   "cell_type": "code",
   "source": "type(abs(-7.0))",
   "id": "9e06882d2ba8d570",
   "outputs": [
    {
     "data": {
      "text/plain": [
       "float"
      ]
     },
     "execution_count": 30,
     "metadata": {},
     "output_type": "execute_result"
    }
   ],
   "execution_count": 30
  },
  {
   "metadata": {
    "ExecuteTime": {
     "end_time": "2024-09-20T14:59:31.124916Z",
     "start_time": "2024-09-20T14:59:31.110755Z"
    }
   },
   "cell_type": "code",
   "source": "type(abs)",
   "id": "150b14ac93880ad6",
   "outputs": [
    {
     "data": {
      "text/plain": [
       "builtin_function_or_method"
      ]
     },
     "execution_count": 31,
     "metadata": {},
     "output_type": "execute_result"
    }
   ],
   "execution_count": 31
  },
  {
   "metadata": {
    "ExecuteTime": {
     "end_time": "2024-09-20T14:59:32.633452Z",
     "start_time": "2024-09-20T14:59:32.625387Z"
    }
   },
   "cell_type": "code",
   "source": "type(int)",
   "id": "6a4f3f23c1e4014",
   "outputs": [
    {
     "data": {
      "text/plain": [
       "type"
      ]
     },
     "execution_count": 32,
     "metadata": {},
     "output_type": "execute_result"
    }
   ],
   "execution_count": 32
  },
  {
   "metadata": {
    "ExecuteTime": {
     "end_time": "2024-09-20T14:59:34.413218Z",
     "start_time": "2024-09-20T14:59:34.409337Z"
    }
   },
   "cell_type": "code",
   "source": "type(type)",
   "id": "b2b428b73b1ee1d3",
   "outputs": [
    {
     "data": {
      "text/plain": [
       "type"
      ]
     },
     "execution_count": 33,
     "metadata": {},
     "output_type": "execute_result"
    }
   ],
   "execution_count": 33
  },
  {
   "metadata": {},
   "cell_type": "markdown",
   "source": "1. How many seconds are there in 42 minutes 42 seconds?",
   "id": "2b48915f7acfd20b"
  },
  {
   "cell_type": "code",
   "id": "initial_id",
   "metadata": {
    "collapsed": true,
    "ExecuteTime": {
     "end_time": "2024-09-20T14:29:25.735129Z",
     "start_time": "2024-09-20T14:29:25.727859Z"
    }
   },
   "source": "(42 * 60)  + 42  ",
   "outputs": [
    {
     "data": {
      "text/plain": [
       "2562"
      ]
     },
     "execution_count": 4,
     "metadata": {},
     "output_type": "execute_result"
    }
   ],
   "execution_count": 4
  },
  {
   "metadata": {},
   "cell_type": "markdown",
   "source": "2. How many miles are there in 10 kilometers? Hint: there are 1.61 kilometers in a mile.",
   "id": "7d162b2467a55ba3"
  },
  {
   "metadata": {
    "ExecuteTime": {
     "end_time": "2024-09-20T14:25:43.064117Z",
     "start_time": "2024-09-20T14:25:43.050441Z"
    }
   },
   "cell_type": "code",
   "source": "round(10 / 1.61, 2)",
   "id": "6389a99cb79bce96",
   "outputs": [
    {
     "data": {
      "text/plain": [
       "6.21"
      ]
     },
     "execution_count": 3,
     "metadata": {},
     "output_type": "execute_result"
    }
   ],
   "execution_count": 3
  },
  {
   "metadata": {},
   "cell_type": "markdown",
   "source": [
    "3. If you run a 10 kilometer race in 42 minutes 42 seconds, what is your average pace in seconds per mile?\n",
    "\n"
   ],
   "id": "14ad46f594b676c0"
  },
  {
   "metadata": {
    "ExecuteTime": {
     "end_time": "2024-09-20T14:31:46.366535Z",
     "start_time": "2024-09-20T14:31:46.353928Z"
    }
   },
   "cell_type": "code",
   "source": [
    "time= (42 * 60)  + 42  \n",
    "distance_miles = 10 / 1.61\n",
    "result = abs(time / distance_miles)\n",
    "print(result)"
   ],
   "id": "b321d1c325b3cc70",
   "outputs": [
    {
     "name": "stdout",
     "output_type": "stream",
     "text": [
      "412.482\n"
     ]
    }
   ],
   "execution_count": 8
  },
  {
   "metadata": {},
   "cell_type": "markdown",
   "source": "4. What is your average pace in minutes and seconds per mile?",
   "id": "645cad97e1d63dea"
  },
  {
   "metadata": {
    "ExecuteTime": {
     "end_time": "2024-09-20T15:02:45.306121Z",
     "start_time": "2024-09-20T15:02:45.299618Z"
    }
   },
   "cell_type": "code",
   "source": [
    "time= (42 * 60)  + 42  \n",
    "distance_miles = 10 / 1.61\n",
    "average_pace_seconds_per_mile = (time / distance_miles)\n",
    "result_average_pace_minutes = average_pace_seconds_per_mile // 60\n",
    "result_average_pace_sec = average_pace_seconds_per_mile % 60\n",
    "print(result_average_pace_minutes)\n",
    "print(round(result_average_pace_sec))"
   ],
   "id": "d102c643aabd57ff",
   "outputs": [
    {
     "name": "stdout",
     "output_type": "stream",
     "text": [
      "6.0\n",
      "52\n"
     ]
    }
   ],
   "execution_count": 34
  },
  {
   "metadata": {},
   "cell_type": "markdown",
   "source": "",
   "id": "8eb5e0a3273a15a"
  },
  {
   "metadata": {},
   "cell_type": "markdown",
   "source": "5. What is your average speed in miles per hour?",
   "id": "e50c7a7d8f55900c"
  },
  {
   "metadata": {
    "ExecuteTime": {
     "end_time": "2024-09-20T15:05:00.046743Z",
     "start_time": "2024-09-20T15:05:00.041820Z"
    }
   },
   "cell_type": "code",
   "source": [
    "# Convert 10 kilometers to miles\n",
    "kilometers = 10\n",
    "miles = kilometers / 1.61\n",
    "\n",
    "# Convert 42 minutes 42 seconds to hours\n",
    "minutes = 42\n",
    "seconds = 42\n",
    "total_seconds = minutes * 60 + seconds\n",
    "hours = total_seconds / 3600\n",
    "\n",
    "# Calculate average pace in miles per hour\n",
    "pace = miles / hours\n",
    "\n",
    "print(f\"Your average pace is {pace:.2f} miles per hour.\")"
   ],
   "id": "a5f8ca8a5ba1dcfd",
   "outputs": [
    {
     "name": "stdout",
     "output_type": "stream",
     "text": [
      "Your average pace is 8.73 miles per hour.\n"
     ]
    }
   ],
   "execution_count": 35
  },
  {
   "metadata": {},
   "cell_type": "markdown",
   "source": "",
   "id": "6f675daa7044cd3"
  },
  {
   "metadata": {},
   "cell_type": "markdown",
   "source": "",
   "id": "d2b7afeb9959300f"
  },
  {
   "metadata": {},
   "cell_type": "markdown",
   "source": "",
   "id": "e106c36b65650eef"
  },
  {
   "metadata": {},
   "cell_type": "markdown",
   "source": "",
   "id": "14b15e98a867721"
  }
 ],
 "metadata": {
  "kernelspec": {
   "display_name": "Python 3",
   "language": "python",
   "name": "python3"
  },
  "language_info": {
   "codemirror_mode": {
    "name": "ipython",
    "version": 2
   },
   "file_extension": ".py",
   "mimetype": "text/x-python",
   "name": "python",
   "nbconvert_exporter": "python",
   "pygments_lexer": "ipython2",
   "version": "2.7.6"
  }
 },
 "nbformat": 4,
 "nbformat_minor": 5
}
